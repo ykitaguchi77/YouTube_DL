{
  "nbformat": 4,
  "nbformat_minor": 0,
  "metadata": {
    "colab": {
      "provenance": [],
      "machine_shape": "hm",
      "gpuType": "T4",
      "authorship_tag": "ABX9TyNrGi7ZZQe5xXiLWaJRH+xa",
      "include_colab_link": true
    },
    "kernelspec": {
      "name": "python3",
      "display_name": "Python 3"
    },
    "language_info": {
      "name": "python"
    },
    "accelerator": "GPU"
  },
  "cells": [
    {
      "cell_type": "markdown",
      "metadata": {
        "id": "view-in-github",
        "colab_type": "text"
      },
      "source": [
        "<a href=\"https://colab.research.google.com/github/ykitaguchi77/YouTube_DL/blob/main/Faster_Whisper.ipynb\" target=\"_parent\"><img src=\"https://colab.research.google.com/assets/colab-badge.svg\" alt=\"Open In Colab\"/></a>"
      ]
    },
    {
      "cell_type": "code",
      "execution_count": 1,
      "metadata": {
        "id": "0x-K2ViIzMfD",
        "outputId": "e70eccc2-4e18-4d6b-9365-c42d3ce97ca3",
        "colab": {
          "base_uri": "https://localhost:8080/"
        }
      },
      "outputs": [
        {
          "output_type": "stream",
          "name": "stdout",
          "text": [
            "Collecting yt-dlp\n",
            "  Downloading yt_dlp-2023.11.16-py2.py3-none-any.whl (3.1 MB)\n",
            "\u001b[2K     \u001b[90m━━━━━━━━━━━━━━━━━━━━━━━━━━━━━━━━━━━━━━━━\u001b[0m \u001b[32m3.1/3.1 MB\u001b[0m \u001b[31m25.3 MB/s\u001b[0m eta \u001b[36m0:00:00\u001b[0m\n",
            "\u001b[?25hCollecting mutagen (from yt-dlp)\n",
            "  Downloading mutagen-1.47.0-py3-none-any.whl (194 kB)\n",
            "\u001b[2K     \u001b[90m━━━━━━━━━━━━━━━━━━━━━━━━━━━━━━━━━━━━━━━━\u001b[0m \u001b[32m194.4/194.4 kB\u001b[0m \u001b[31m28.7 MB/s\u001b[0m eta \u001b[36m0:00:00\u001b[0m\n",
            "\u001b[?25hCollecting pycryptodomex (from yt-dlp)\n",
            "  Downloading pycryptodomex-3.19.0-cp35-abi3-manylinux_2_17_x86_64.manylinux2014_x86_64.whl (2.1 MB)\n",
            "\u001b[2K     \u001b[90m━━━━━━━━━━━━━━━━━━━━━━━━━━━━━━━━━━━━━━━━\u001b[0m \u001b[32m2.1/2.1 MB\u001b[0m \u001b[31m99.7 MB/s\u001b[0m eta \u001b[36m0:00:00\u001b[0m\n",
            "\u001b[?25hCollecting websockets (from yt-dlp)\n",
            "  Downloading websockets-12.0-cp310-cp310-manylinux_2_5_x86_64.manylinux1_x86_64.manylinux_2_17_x86_64.manylinux2014_x86_64.whl (130 kB)\n",
            "\u001b[2K     \u001b[90m━━━━━━━━━━━━━━━━━━━━━━━━━━━━━━━━━━━━━━━━\u001b[0m \u001b[32m130.2/130.2 kB\u001b[0m \u001b[31m20.5 MB/s\u001b[0m eta \u001b[36m0:00:00\u001b[0m\n",
            "\u001b[?25hRequirement already satisfied: certifi in /usr/local/lib/python3.10/dist-packages (from yt-dlp) (2023.11.17)\n",
            "Requirement already satisfied: requests<3,>=2.31.0 in /usr/local/lib/python3.10/dist-packages (from yt-dlp) (2.31.0)\n",
            "Requirement already satisfied: urllib3<3,>=1.26.17 in /usr/local/lib/python3.10/dist-packages (from yt-dlp) (2.0.7)\n",
            "Collecting brotli (from yt-dlp)\n",
            "  Downloading Brotli-1.1.0-cp310-cp310-manylinux_2_5_x86_64.manylinux1_x86_64.manylinux_2_12_x86_64.manylinux2010_x86_64.whl (3.0 MB)\n",
            "\u001b[2K     \u001b[90m━━━━━━━━━━━━━━━━━━━━━━━━━━━━━━━━━━━━━━━━\u001b[0m \u001b[32m3.0/3.0 MB\u001b[0m \u001b[31m114.4 MB/s\u001b[0m eta \u001b[36m0:00:00\u001b[0m\n",
            "\u001b[?25hRequirement already satisfied: charset-normalizer<4,>=2 in /usr/local/lib/python3.10/dist-packages (from requests<3,>=2.31.0->yt-dlp) (3.3.2)\n",
            "Requirement already satisfied: idna<4,>=2.5 in /usr/local/lib/python3.10/dist-packages (from requests<3,>=2.31.0->yt-dlp) (3.6)\n",
            "Installing collected packages: brotli, websockets, pycryptodomex, mutagen, yt-dlp\n",
            "Successfully installed brotli-1.1.0 mutagen-1.47.0 pycryptodomex-3.19.0 websockets-12.0 yt-dlp-2023.11.16\n",
            "Collecting faster_whisper\n",
            "  Downloading faster-whisper-0.10.0.tar.gz (1.5 MB)\n",
            "\u001b[2K     \u001b[90m━━━━━━━━━━━━━━━━━━━━━━━━━━━━━━━━━━━━━━━━\u001b[0m \u001b[32m1.5/1.5 MB\u001b[0m \u001b[31m17.2 MB/s\u001b[0m eta \u001b[36m0:00:00\u001b[0m\n",
            "\u001b[?25h  Preparing metadata (setup.py) ... \u001b[?25l\u001b[?25hdone\n",
            "Collecting av==10.* (from faster_whisper)\n",
            "  Downloading av-10.0.0-cp310-cp310-manylinux_2_17_x86_64.manylinux2014_x86_64.whl (31.0 MB)\n",
            "\u001b[2K     \u001b[90m━━━━━━━━━━━━━━━━━━━━━━━━━━━━━━━━━━━━━━━━\u001b[0m \u001b[32m31.0/31.0 MB\u001b[0m \u001b[31m51.2 MB/s\u001b[0m eta \u001b[36m0:00:00\u001b[0m\n",
            "\u001b[?25hCollecting ctranslate2<4,>=3.22 (from faster_whisper)\n",
            "  Downloading ctranslate2-3.23.0-cp310-cp310-manylinux_2_17_x86_64.manylinux2014_x86_64.whl (36.8 MB)\n",
            "\u001b[2K     \u001b[90m━━━━━━━━━━━━━━━━━━━━━━━━━━━━━━━━━━━━━━━━\u001b[0m \u001b[32m36.8/36.8 MB\u001b[0m \u001b[31m47.4 MB/s\u001b[0m eta \u001b[36m0:00:00\u001b[0m\n",
            "\u001b[?25hRequirement already satisfied: huggingface_hub>=0.13 in /usr/local/lib/python3.10/dist-packages (from faster_whisper) (0.19.4)\n",
            "Requirement already satisfied: tokenizers<0.16,>=0.13 in /usr/local/lib/python3.10/dist-packages (from faster_whisper) (0.15.0)\n",
            "Collecting onnxruntime<2,>=1.14 (from faster_whisper)\n",
            "  Downloading onnxruntime-1.16.3-cp310-cp310-manylinux_2_17_x86_64.manylinux2014_x86_64.whl (6.4 MB)\n",
            "\u001b[2K     \u001b[90m━━━━━━━━━━━━━━━━━━━━━━━━━━━━━━━━━━━━━━━━\u001b[0m \u001b[32m6.4/6.4 MB\u001b[0m \u001b[31m120.3 MB/s\u001b[0m eta \u001b[36m0:00:00\u001b[0m\n",
            "\u001b[?25hRequirement already satisfied: setuptools in /usr/local/lib/python3.10/dist-packages (from ctranslate2<4,>=3.22->faster_whisper) (67.7.2)\n",
            "Requirement already satisfied: numpy in /usr/local/lib/python3.10/dist-packages (from ctranslate2<4,>=3.22->faster_whisper) (1.23.5)\n",
            "Requirement already satisfied: pyyaml<7,>=5.3 in /usr/local/lib/python3.10/dist-packages (from ctranslate2<4,>=3.22->faster_whisper) (6.0.1)\n",
            "Requirement already satisfied: filelock in /usr/local/lib/python3.10/dist-packages (from huggingface_hub>=0.13->faster_whisper) (3.13.1)\n",
            "Requirement already satisfied: fsspec>=2023.5.0 in /usr/local/lib/python3.10/dist-packages (from huggingface_hub>=0.13->faster_whisper) (2023.6.0)\n",
            "Requirement already satisfied: requests in /usr/local/lib/python3.10/dist-packages (from huggingface_hub>=0.13->faster_whisper) (2.31.0)\n",
            "Requirement already satisfied: tqdm>=4.42.1 in /usr/local/lib/python3.10/dist-packages (from huggingface_hub>=0.13->faster_whisper) (4.66.1)\n",
            "Requirement already satisfied: typing-extensions>=3.7.4.3 in /usr/local/lib/python3.10/dist-packages (from huggingface_hub>=0.13->faster_whisper) (4.5.0)\n",
            "Requirement already satisfied: packaging>=20.9 in /usr/local/lib/python3.10/dist-packages (from huggingface_hub>=0.13->faster_whisper) (23.2)\n",
            "Collecting coloredlogs (from onnxruntime<2,>=1.14->faster_whisper)\n",
            "  Downloading coloredlogs-15.0.1-py2.py3-none-any.whl (46 kB)\n",
            "\u001b[2K     \u001b[90m━━━━━━━━━━━━━━━━━━━━━━━━━━━━━━━━━━━━━━━━\u001b[0m \u001b[32m46.0/46.0 kB\u001b[0m \u001b[31m6.4 MB/s\u001b[0m eta \u001b[36m0:00:00\u001b[0m\n",
            "\u001b[?25hRequirement already satisfied: flatbuffers in /usr/local/lib/python3.10/dist-packages (from onnxruntime<2,>=1.14->faster_whisper) (23.5.26)\n",
            "Requirement already satisfied: protobuf in /usr/local/lib/python3.10/dist-packages (from onnxruntime<2,>=1.14->faster_whisper) (3.20.3)\n",
            "Requirement already satisfied: sympy in /usr/local/lib/python3.10/dist-packages (from onnxruntime<2,>=1.14->faster_whisper) (1.12)\n",
            "Collecting humanfriendly>=9.1 (from coloredlogs->onnxruntime<2,>=1.14->faster_whisper)\n",
            "  Downloading humanfriendly-10.0-py2.py3-none-any.whl (86 kB)\n",
            "\u001b[2K     \u001b[90m━━━━━━━━━━━━━━━━━━━━━━━━━━━━━━━━━━━━━━━━\u001b[0m \u001b[32m86.8/86.8 kB\u001b[0m \u001b[31m13.2 MB/s\u001b[0m eta \u001b[36m0:00:00\u001b[0m\n",
            "\u001b[?25hRequirement already satisfied: charset-normalizer<4,>=2 in /usr/local/lib/python3.10/dist-packages (from requests->huggingface_hub>=0.13->faster_whisper) (3.3.2)\n",
            "Requirement already satisfied: idna<4,>=2.5 in /usr/local/lib/python3.10/dist-packages (from requests->huggingface_hub>=0.13->faster_whisper) (3.6)\n",
            "Requirement already satisfied: urllib3<3,>=1.21.1 in /usr/local/lib/python3.10/dist-packages (from requests->huggingface_hub>=0.13->faster_whisper) (2.0.7)\n",
            "Requirement already satisfied: certifi>=2017.4.17 in /usr/local/lib/python3.10/dist-packages (from requests->huggingface_hub>=0.13->faster_whisper) (2023.11.17)\n",
            "Requirement already satisfied: mpmath>=0.19 in /usr/local/lib/python3.10/dist-packages (from sympy->onnxruntime<2,>=1.14->faster_whisper) (1.3.0)\n",
            "Building wheels for collected packages: faster_whisper\n",
            "  Building wheel for faster_whisper (setup.py) ... \u001b[?25l\u001b[?25hdone\n",
            "  Created wheel for faster_whisper: filename=faster_whisper-0.10.0-py3-none-any.whl size=1539726 sha256=cf3610db01cc03f1b3312f541a80ee7add489058d84691ceb13f4cca260386ec\n",
            "  Stored in directory: /root/.cache/pip/wheels/b3/4e/9a/bd36d2645cb73f909a3a65a2e317fec5c6a79c8121ab9eb42f\n",
            "Successfully built faster_whisper\n",
            "Installing collected packages: av, humanfriendly, ctranslate2, coloredlogs, onnxruntime, faster_whisper\n",
            "Successfully installed av-10.0.0 coloredlogs-15.0.1 ctranslate2-3.23.0 faster_whisper-0.10.0 humanfriendly-10.0 onnxruntime-1.16.3\n"
          ]
        }
      ],
      "source": [
        "!pip install -U yt-dlp\n",
        "!pip install -U faster_whisper"
      ]
    },
    {
      "cell_type": "code",
      "source": [
        "import subprocess\n",
        "import re\n",
        "from faster_whisper import WhisperModel\n",
        "\n",
        "YOUTUBE_ID = \"TOVAc1YCgag\"  # Youtube ID\n",
        "AUDIO_FILE_NAME = f\"{YOUTUBE_ID}.mp3\"\n",
        "\n",
        "# Download audio and metadata from Youtube\n",
        "def dl_yt(yt_url):\n",
        "    # Download audio\n",
        "    subprocess.run(f\"yt-dlp -x --audio-format mp3 -o {AUDIO_FILE_NAME} {yt_url}\", shell=True)\n",
        "    # Get metadata\n",
        "    result = subprocess.run(f\"yt-dlp -j {yt_url}\", shell=True, capture_output=True, text=True)\n",
        "    return result.stdout\n",
        "\n",
        "metadata = dl_yt(f\"https://youtu.be/{YOUTUBE_ID}\")\n",
        "\n",
        "# Extract title from metadata\n",
        "import json\n",
        "metadata_json = json.loads(metadata)\n",
        "title = metadata_json.get(\"title\", YOUTUBE_ID)\n",
        "\n",
        "# Sanitize the title to be used as a filename\n",
        "safe_title = re.sub(r'[\\\\/*?:\"<>|]', \"\", title)\n",
        "\n",
        "TRANSCRIPTION_FILE_NAME = f\"{safe_title}_transcription.txt\"\n",
        "\n",
        "model_size = \"large-v2\"\n",
        "model = WhisperModel(model_size, device=\"cuda\", compute_type=\"float16\")\n",
        "segments, info = model.transcribe(AUDIO_FILE_NAME, beam_size=5)\n",
        "\n",
        "# Print detected language\n",
        "print(\"Detected language '%s' with probability %f\" % (info.language, info.language_probability))\n",
        "\n",
        "# Write the transcription to a file\n",
        "with open(TRANSCRIPTION_FILE_NAME, \"w\", encoding=\"utf-8\") as file:\n",
        "    for segment in segments:\n",
        "        file.write(f\"{segment.text}\\n\")\n",
        "        print(\"[%.2fs -> %.2fs] %s\" % (segment.start, segment.end, segment.text))\n",
        "\n",
        "print(f\"Transcription saved to {TRANSCRIPTION_FILE_NAME}\")\n"
      ],
      "metadata": {
        "id": "z30GBEo099a8"
      },
      "execution_count": null,
      "outputs": []
    },
    {
      "cell_type": "markdown",
      "source": [
        "#**動画ID --> CHHANNEL_URL --> すべての動画をDL**"
      ],
      "metadata": {
        "id": "RjZLrvenH7Ii"
      }
    },
    {
      "cell_type": "code",
      "source": [
        "import subprocess\n",
        "import re\n",
        "import json\n",
        "import os\n",
        "from faster_whisper import WhisperModel\n",
        "\n",
        "VIDEO_ID = \"YaK2pwtavi4\"  # 動画IDをここに設定\n",
        "AUDIO_DIR = \"downloaded_audio\"\n",
        "TRANSCRIPTION_DIR = \"transcriptions\"\n",
        "\n",
        "# ディレクトリ確認・作成\n",
        "os.makedirs(AUDIO_DIR, exist_ok=True)\n",
        "os.makedirs(TRANSCRIPTION_DIR, exist_ok=True)\n",
        "\n",
        "# YouTube動画からチャンネルURLを取得\n",
        "def get_channel_url_from_video(video_id):\n",
        "    result = subprocess.run(f\"yt-dlp -j https://youtu.be/{video_id}\", shell=True, capture_output=True, text=True)\n",
        "    video_data = json.loads(result.stdout)\n",
        "    return video_data[\"channel_url\"]\n",
        "\n",
        "def list_videos(channel_url):\n",
        "    result = subprocess.run(f\"yt-dlp -j --flat-playlist {channel_url}\", shell=True, capture_output=True, text=True)\n",
        "    lines = result.stdout.split('\\n')  # 出力を行に分割\n",
        "    videos = []\n",
        "    for line in lines:\n",
        "        if line:  # 空の行を無視\n",
        "            try:\n",
        "                video = json.loads(line)\n",
        "                videos.append((video['id'], video['title']))\n",
        "            except json.JSONDecodeError as e:\n",
        "                print(f\"JSON decoding error: {e} for line: {line}\")\n",
        "    return videos\n",
        "\n",
        "\n",
        "# メイン処理\n",
        "CHANNEL_URL = get_channel_url_from_video(VIDEO_ID)\n",
        "videos = list_videos(CHANNEL_URL)\n",
        "\n",
        "# 以下、既存のdl_yt, transcribe_and_save 関数と動画処理ループを使用\n",
        "print(CHANNEL_URL)"
      ],
      "metadata": {
        "id": "DJAcm68QH6ML",
        "outputId": "e69e7b4d-ce3a-4b9d-eb5d-9098eb7ebf12",
        "colab": {
          "base_uri": "https://localhost:8080/"
        }
      },
      "execution_count": 5,
      "outputs": [
        {
          "output_type": "stream",
          "name": "stdout",
          "text": [
            "https://www.youtube.com/channel/UCH9YK4B72yMjRPsVgx-EXxw\n"
          ]
        }
      ]
    },
    {
      "cell_type": "code",
      "source": [
        "import subprocess\n",
        "import re\n",
        "import json\n",
        "import os\n",
        "from faster_whisper import WhisperModel\n",
        "\n",
        "CHANNEL_URL = CHANNEL_URL\n",
        "AUDIO_DIR = \"downloaded_audio\"\n",
        "TRANSCRIPTION_DIR = \"transcriptions\"\n",
        "\n",
        "# Ensure directories exist\n",
        "os.makedirs(AUDIO_DIR, exist_ok=True)\n",
        "os.makedirs(TRANSCRIPTION_DIR, exist_ok=True)\n",
        "\n",
        "# Function to download audio and metadata from Youtube\n",
        "def dl_yt(yt_url, audio_file_name):\n",
        "    subprocess.run(f\"yt-dlp -x --audio-format mp3 -o {AUDIO_DIR}/{audio_file_name} {yt_url}\", shell=True)\n",
        "    result = subprocess.run(f\"yt-dlp -j {yt_url}\", shell=True, capture_output=True, text=True)\n",
        "    return result.stdout\n",
        "\n",
        "# Function to list all videos from a channel\n",
        "def list_videos(channel_url):\n",
        "    result = subprocess.run(f\"yt-dlp -j --flat-playlist {channel_url}\", shell=True, capture_output=True, text=True)\n",
        "    lines = result.stdout.strip().split('\\n')  # Split the output into lines\n",
        "    videos = []\n",
        "    for line in lines:\n",
        "        if line:  # Ignore empty lines\n",
        "            try:\n",
        "                video_data = json.loads(line)\n",
        "                videos.append((video_data['id'], video_data['title']))\n",
        "            except json.JSONDecodeError as e:\n",
        "                print(f\"Error decoding JSON for line: {line}\\nError: {e}\")\n",
        "    return videos\n",
        "\n",
        "\n",
        "# Function to transcribe and save audio\n",
        "def transcribe_and_save(audio_file_name, transcription_file_name):\n",
        "    model_size = \"large-v2\"\n",
        "    model = WhisperModel(model_size, device=\"cuda\", compute_type=\"float16\")\n",
        "    segments, info = model.transcribe(f\"{AUDIO_DIR}/{audio_file_name}\", beam_size=5)\n",
        "\n",
        "    with open(f\"{TRANSCRIPTION_DIR}/{transcription_file_name}\", \"w\", encoding=\"utf-8\") as file:\n",
        "        for segment in segments:\n",
        "            file.write(f\"{segment.text}\\n\")\n",
        "            print(\"[%.2fs -> %.2fs] %s\" % (segment.start, segment.end, segment.text))\n",
        "\n",
        "\n",
        "# Fetch all videos from the channel\n",
        "videos = list_videos(CHANNEL_URL)\n",
        "\n",
        "# Process each video\n",
        "for video_id, title in videos:\n",
        "    yt_url = f\"https://youtu.be/{video_id}\"\n",
        "    audio_file_name = f\"{video_id}.mp3\"\n",
        "    safe_title = re.sub(r'[\\\\/*?:\"<>|]', \"\", title)\n",
        "    transcription_file_name = f\"{safe_title}_transcription.txt\"\n",
        "\n",
        "    metadata = dl_yt(yt_url, audio_file_name)\n",
        "    transcribe_and_save(audio_file_name, transcription_file_name)\n",
        "    print(f\"Processed video: {title}\")\n"
      ],
      "metadata": {
        "id": "2Cz8bVd4FH5L"
      },
      "execution_count": null,
      "outputs": []
    }
  ]
}